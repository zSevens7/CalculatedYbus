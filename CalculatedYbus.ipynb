{
  "nbformat": 4,
  "nbformat_minor": 0,
  "metadata": {
    "colab": {
      "provenance": []
    },
    "kernelspec": {
      "name": "python3",
      "display_name": "Python 3"
    },
    "language_info": {
      "name": "python"
    }
  },
  "cells": [
    {
      "cell_type": "code",
      "execution_count": null,
      "metadata": {
        "colab": {
          "base_uri": "https://localhost:8080/"
        },
        "id": "MrpTodDRw-rS",
        "outputId": "2c83c8c3-b994-4e03-a30b-e8343c618d1e"
      },
      "outputs": [
        {
          "output_type": "stream",
          "name": "stdout",
          "text": [
            "Matriz Ybus corrigida (pelo algoritmo):\n",
            "[[ 1.4+14.j -0.5 -5.j -0.8 -8.j  0.  +0.j]\n",
            " [-0.5 -5.j  1.3+13.j -0.6 -6.j  0.  +0.j]\n",
            " [-0.8 -8.j -0.6 -6.j  3. +30.j -1.3-13.j]\n",
            " [ 0.  +0.j  0.  +0.j -1.3-13.j  1.7+17.j]]\n"
          ]
        }
      ],
      "source": [
        "import numpy as np\n",
        "\n",
        "def calc_y(i):\n",
        "    return 0.1 * i + 1j * i\n",
        "\n",
        "y1 = calc_y(1)\n",
        "y2 = calc_y(2)\n",
        "y3 = calc_y(3)\n",
        "y4 = calc_y(4)\n",
        "y5 = calc_y(5)\n",
        "y6 = calc_y(6)\n",
        "y8 = calc_y(8)\n",
        "y9 = calc_y(9)\n",
        "y10 = calc_y(10)\n",
        "\n",
        "# Admitância equivalente\n",
        "y4_9 = y4 + y9\n",
        "\n",
        "nbus = 4\n",
        "Ybus_alg = np.zeros((nbus, nbus), dtype=complex)\n",
        "\n",
        "# Ligações ENTRE BARRAS\n",
        "k = [1, 1, 2, 3]\n",
        "m = [2, 3, 3, 4]\n",
        "ykm = [y5, y8, y6, y4_9]\n",
        "\n",
        "# Adiciona apenas as ligações entre barras\n",
        "for i in range(len(k)):\n",
        "    p = k[i] - 1\n",
        "    q = m[i] - 1\n",
        "    r = ykm[i]\n",
        "    Ybus_alg[p, p] += r\n",
        "    Ybus_alg[q, q] += r\n",
        "    Ybus_alg[p, q] -= r\n",
        "    Ybus_alg[q, p] -= r\n",
        "\n",
        "# Agora somar as ligações com a Terra\n",
        "Ybus_alg[0, 0] += y1\n",
        "Ybus_alg[1, 1] += y2\n",
        "Ybus_alg[2, 2] += y3\n",
        "Ybus_alg[3, 3] += y4\n",
        "\n",
        "print(\"Matriz Ybus corrigida (pelo algoritmo):\")\n",
        "print(np.round(Ybus_alg, 4))\n"
      ]
    },
    {
      "cell_type": "markdown",
      "source": [
        "# Gerador de Matriz Ybus Geral\n",
        "\n",
        "Este projeto gera automaticamente a matriz Ybus para qualquer circuito.\n",
        "\n",
        "## Como usar:\n",
        "\n",
        "1. Informe o número de nós do circuito.\n",
        "2. Para cada nó:\n",
        "   - Informe com quais outros nós ele está conectado.\n",
        "   - Informe o valor da admitância (ex: 0.5+5j).\n",
        "3. Informe se o nó está conectado à Terra:\n",
        "   - Se sim, digite o valor da admitância para a Terra.\n",
        "\n",
        "⚠️ **Atenção:**  \n",
        "- Não repita ligações! Se você já ligou o nó 1 ao nó 2, **não precisa** depois ligar o nó 2 ao nó 1 de novo.\n",
        "- Cada conexão deve ser declarada **uma vez**.\n",
        "\n",
        "---\n",
        "\n",
        "## Resultado:\n",
        "O programa irá calcular e mostrar a matriz Ybus final.\n",
        "\n",
        "## Créditos:\n",
        "Criado por Gabriel Teperino Percegoni Figueira.\n"
      ],
      "metadata": {
        "id": "dK37rz39xoUT"
      }
    },
    {
      "cell_type": "code",
      "source": [
        "import numpy as np\n",
        "\n",
        "# Perguntar número de nós\n",
        "nbus = int(input(\"Quantos nós o circuito tem? \"))\n",
        "\n",
        "# Inicializar matriz Ybus\n",
        "Ybus = np.zeros((nbus, nbus), dtype=complex)\n",
        "\n",
        "# Guardar todas ligações\n",
        "ligacoes = []\n",
        "\n",
        "# Perguntar sobre as conexões entre nós\n",
        "for i in range(1, nbus + 1):\n",
        "    while True:\n",
        "        resposta = input(f\"O nó {i} está conectado a outro nó? (s/n): \").lower()\n",
        "        if resposta == 's':\n",
        "            no_conectado = int(input(f\"A qual nó o nó {i} está conectado? (número do nó): \"))\n",
        "            valor_y = complex(input(f\"Qual o valor da admitância entre o nó {i} e o nó {no_conectado}? (ex: 2+4j): \"))\n",
        "            ligacoes.append((i, no_conectado, valor_y))\n",
        "        elif resposta == 'n':\n",
        "            break\n",
        "        else:\n",
        "            print(\"Resposta inválida. Digite 's' ou 'n'.\")\n",
        "\n",
        "# Perguntar sobre ligação à Terra\n",
        "ligacoes_terra = {}\n",
        "for i in range(1, nbus + 1):\n",
        "    resposta = input(f\"O nó {i} está conectado à Terra? (s/n): \").lower()\n",
        "    if resposta == 's':\n",
        "        valor_y_terra = complex(input(f\"Qual o valor da admitância entre o nó {i} e a Terra? (ex: 2+4j): \"))\n",
        "        ligacoes_terra[i] = valor_y_terra\n",
        "    elif resposta == 'n':\n",
        "        continue\n",
        "    else:\n",
        "        print(\"Resposta inválida. Digite 's' ou 'n'.\")\n",
        "\n",
        "# Construir Ybus\n",
        "\n",
        "# Primeiro: conexões entre nós\n",
        "for (p, q, ypq) in ligacoes:\n",
        "    p_index = p - 1\n",
        "    q_index = q - 1\n",
        "    Ybus[p_index, p_index] += ypq\n",
        "    Ybus[q_index, q_index] += ypq\n",
        "    Ybus[p_index, q_index] -= ypq\n",
        "    Ybus[q_index, p_index] -= ypq\n",
        "\n",
        "# Segundo: conexões com a Terra\n",
        "for i, y_terra in ligacoes_terra.items():\n",
        "    Ybus[i-1, i-1] += y_terra\n",
        "\n",
        "# Mostrar matriz final\n",
        "print(\"\\nMatriz Ybus final:\")\n",
        "for i in range(nbus):\n",
        "    linha = \"\"\n",
        "    for j in range(nbus):\n",
        "        linha += f\"{Ybus[i,j]:8.2f}  \"\n",
        "    print(linha)\n",
        "\n",
        "\n"
      ],
      "metadata": {
        "colab": {
          "base_uri": "https://localhost:8080/"
        },
        "id": "70WOTnQPxoq0",
        "outputId": "b5c3c1eb-68ad-4b43-d363-48ea499f9d56"
      },
      "execution_count": null,
      "outputs": [
        {
          "output_type": "stream",
          "name": "stdout",
          "text": [
            "Quantos nós o circuito tem? 4\n",
            "O nó 1 está conectado a outro nó? (s/n): s\n",
            "A qual nó o nó 1 está conectado? (número do nó): 2\n",
            "Qual o valor da admitância entre o nó 1 e o nó 2? (ex: 2+4j): 0.5+5j\n",
            "O nó 1 está conectado a outro nó? (s/n): s\n",
            "A qual nó o nó 1 está conectado? (número do nó): 3\n",
            "Qual o valor da admitância entre o nó 1 e o nó 3? (ex: 2+4j): 0.8+8j\n",
            "O nó 1 está conectado a outro nó? (s/n): n\n",
            "O nó 2 está conectado a outro nó? (s/n): s\n",
            "A qual nó o nó 2 está conectado? (número do nó): 3\n",
            "Qual o valor da admitância entre o nó 2 e o nó 3? (ex: 2+4j): 0.6+6j\n",
            "O nó 2 está conectado a outro nó? (s/n): n\n",
            "O nó 3 está conectado a outro nó? (s/n): s\n",
            "A qual nó o nó 3 está conectado? (número do nó): 4\n",
            "Qual o valor da admitância entre o nó 3 e o nó 4? (ex: 2+4j): 1.6+16j\n",
            "O nó 3 está conectado a outro nó? (s/n): n\n",
            "O nó 4 está conectado a outro nó? (s/n): n\n",
            "O nó 1 está conectado à Terra? (s/n): s\n",
            "Qual o valor da admitância entre o nó 1 e a Terra? (ex: 2+4j): 0.1+1j\n",
            "O nó 2 está conectado à Terra? (s/n): s\n",
            "Qual o valor da admitância entre o nó 2 e a Terra? (ex: 2+4j): 0.2+2j\n",
            "O nó 3 está conectado à Terra? (s/n): s\n",
            "Qual o valor da admitância entre o nó 3 e a Terra? (ex: 2+4j): 0.3+3j\n",
            "O nó 4 está conectado à Terra? (s/n): s\n",
            "Qual o valor da admitância entre o nó 4 e a Terra? (ex: 2+4j): 0.4+4j\n",
            "\n",
            "Matriz Ybus final:\n",
            "1.40+14.00j  -0.50-5.00j  -0.80-8.00j  0.00+0.00j  \n",
            "-0.50-5.00j  1.30+13.00j  -0.60-6.00j  0.00+0.00j  \n",
            "-0.80-8.00j  -0.60-6.00j  3.30+33.00j  -1.60-16.00j  \n",
            "0.00+0.00j  0.00+0.00j  -1.60-16.00j  2.00+20.00j  \n"
          ]
        }
      ]
    }
  ]
}